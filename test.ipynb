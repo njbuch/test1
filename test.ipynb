{
 "cells": [
  {
   "cell_type": "code",
   "execution_count": 1,
   "metadata": {
    "collapsed": true
   },
   "outputs": [],
   "source": [
    "import os, sys, inspect, io\n",
    "\n",
    "cmd_folder = os.path.realpath(\n",
    "    os.path.dirname(\n",
    "        os.path.abspath(os.path.split(inspect.getfile( inspect.currentframe() ))[0])))\n",
    "\n",
    "if cmd_folder not in sys.path:\n",
    "    sys.path.insert(0, cmd_folder)\n",
    "    \n",
    "from transitions import *\n",
    "from transitions.extensions import GraphMachine\n",
    "from IPython.display import Image, display, display_png\n",
    "\n",
    "class Matter(object):\n",
    "    def is_valid(self):\n",
    "        return True\n",
    "    \n",
    "    def is_not_valid(self):\n",
    "        return False\n",
    "    \n",
    "    def is_also_valid(self):\n",
    "        return True\n",
    "    \n",
    "    # graph object is created by the machine\n",
    "    def show_graph(self, **kwargs):\n",
    "        stream = io.BytesIO()\n",
    "        self.get_graph(**kwargs).draw(stream, prog='dot', format='png')\n",
    "        display(Image(stream.getvalue()))"
   ]
  },
  {
   "cell_type": "code",
   "execution_count": null,
   "metadata": {},
   "outputs": [],
   "source": [
    "transitions = [\n",
    "    { 'trigger': 'melt', 'source': 'solid', 'dest': 'liquid' },\n",
    "    { 'trigger': 'evaporate', 'source': 'liquid', 'dest': 'gas', 'conditions':'is_valid' },\n",
    "    { 'trigger': 'sublimate', 'source': 'solid', 'dest': 'gas', 'unless':'is_not_valid' },\n",
    "    { 'trigger': 'ionize', 'source': 'gas', 'dest': 'plasma', \n",
    "      'conditions':['is_valid','is_also_valid'] }\n",
    "]\n",
    "states=['solid', 'liquid', 'gas', 'plasma']\n",
    "\n",
    "model = Matter()\n",
    "machine = GraphMachine(model=model, \n",
    "                       states=states, \n",
    "                       transitions=transitions,\n",
    "                       initial='solid',\n",
    "                       show_auto_transitions=True, # default value is False\n",
    "                       title=\"Matter is Fun!\",\n",
    "                       show_conditions=True)\n",
    "model.show_graph()"
   ]
  }
 ],
 "metadata": {
  "kernelspec": {
   "display_name": "Python 2",
   "language": "python",
   "name": "python2"
  },
  "language_info": {
   "codemirror_mode": {
    "name": "ipython",
    "version": 2.0
   },
   "file_extension": ".py",
   "mimetype": "text/x-python",
   "name": "python",
   "nbconvert_exporter": "python",
   "pygments_lexer": "ipython2",
   "version": "2.7.6"
  }
 },
 "nbformat": 4,
 "nbformat_minor": 0
}